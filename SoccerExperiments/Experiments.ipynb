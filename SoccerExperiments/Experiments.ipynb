{
  "nbformat": 4,
  "nbformat_minor": 0,
  "metadata": {
    "colab": {
      "name": "Experiments.ipynb",
      "provenance": [],
      "collapsed_sections": [],
      "toc_visible": true
    },
    "kernelspec": {
      "name": "python3",
      "display_name": "Python 3"
    },
    "accelerator": "TPU"
  },
  "cells": [
    {
      "cell_type": "markdown",
      "metadata": {
        "id": "kQKyzI7UE-fQ",
        "colab_type": "text"
      },
      "source": [
        "# Evaluating the impact of curriculum learning on the training process for an intelligent agent in a videogame\n",
        "Maestría en Ingeniería de Sistemas y Computación, Modalidad Profundización. \n",
        "Universidad Nacional de Colombia - Sede Bogotá\n",
        "\n",
        "### Abstract:\n",
        "Curriculum learning is a technique that can increase the learning speed of an intelligent agent that is learning a behavior policy to play a video game in an optimal way using reinforcement learning. It can be seen as a special form of transfer learning and is based on the idea of training using easier examples first, then using the harder complex ones later, to guide the optimization process. This technique is tested in a 3D 1-vs-1 soccer video game running in Unity, where two identical agents are trained using Proximal Policy Optimization, the training process for the second agent uses a 5-step curriculum designed to speed-up the learning rate.\n",
        "\n",
        "### Keywords\n",
        "Reinforcement Learning, Curriculum Learning, Continuation Method, Sparse Rewards, Deep Learning, Proximal Policy Optimization, Video Games, Unity Machine Learning Agents, Unity ML-Agents SDK, Unity Engine, Game AI\n",
        "\n",
        "### Links:\n",
        "* http://bit.ly/rsaenzi-master-thesis\n",
        "* https://github.com/rsaenzi/master-thesis\n",
        "* https://sites.google.com/view/rsaenzi-master-thesis/home\n",
        "* https://www.mendeley.com/community/rigobertosaenz-referencias/\n"
      ]
    },
    {
      "cell_type": "markdown",
      "metadata": {
        "id": "DFDL-Ab1YHLU",
        "colab_type": "text"
      },
      "source": [
        "# Google Colab only"
      ]
    },
    {
      "cell_type": "code",
      "metadata": {
        "id": "NWJHf5rPXOrz",
        "colab_type": "code",
        "colab": {}
      },
      "source": [
        "# Delete colab sample data\n",
        "!rm -R sample_data"
      ],
      "execution_count": null,
      "outputs": []
    },
    {
      "cell_type": "markdown",
      "metadata": {
        "id": "rRrHr1sbYM5K",
        "colab_type": "text"
      },
      "source": [
        "# Google Compute Engine only"
      ]
    },
    {
      "cell_type": "code",
      "metadata": {
        "id": "LxYHhD5rYSYY",
        "colab_type": "code",
        "colab": {}
      },
      "source": [
        "# Make contents directory\n",
        "#!mkdir -p 'content'\n",
        "#!cd 'content'\n",
        "#!pwd"
      ],
      "execution_count": null,
      "outputs": []
    },
    {
      "cell_type": "markdown",
      "metadata": {
        "id": "omS2ryxjvscM",
        "colab_type": "text"
      },
      "source": [
        "# Paths\n",
        "Directory paths that will be used for installing Unity and running experiments"
      ]
    },
    {
      "cell_type": "code",
      "metadata": {
        "id": "ZEv6ubEpvopJ",
        "colab_type": "code",
        "cellView": "both",
        "colab": {}
      },
      "source": [
        "#@title Unity Project\n",
        "UNITY_PROJECT_PATH = '/content/master-thesis/SoccerAcademy' #@param {type:\"string\"}\n",
        "BUILD_PATH = '/content/soccer-academy-build/' #@param {type:\"string\"}\n",
        "BUILD_NAME = 'SoccerAcademy.x86_64' #@param {type:\"string\"}\n",
        "\n",
        "import os\n",
        "FULL_BINARY_PATH = os.path.join(BUILD_PATH, BUILD_NAME)\n",
        "print(\"Full Linux Binary Path: {}\".format(FULL_BINARY_PATH))"
      ],
      "execution_count": null,
      "outputs": []
    },
    {
      "cell_type": "code",
      "metadata": {
        "id": "XgYqBDibv5cH",
        "colab_type": "code",
        "cellView": "both",
        "colab": {}
      },
      "source": [
        "#@title Experiments\n",
        "PARALLEL_EXECUTIONS = 1 #@param {type:\"integer\"}\n",
        "EXPERIMENTS_NAME = 'PPO_curriculaA' #@param {type:\"string\"}\n",
        "EXPERIMENTS_PATH = '/content/' #@param {type:\"string\"}\n",
        "\n",
        "TRAINING_CONFIG_FILE = 'TrainingConfigPPO.yaml' #@param {type:\"string\"}\n",
        "CURRICULA_FILE = 'TrainingCurriculaA.yaml' #@param {type:\"string\"}\n",
        "\n",
        "TRAINING_CONFIG_PATH = os.path.join(EXPERIMENTS_PATH, TRAINING_CONFIG_FILE)\n",
        "CURRICULA_PATH = os.path.join(EXPERIMENTS_PATH, CURRICULA_FILE)\n",
        "\n",
        "print(\"Full TrainingConfig Path: {}\".format(TRAINING_CONFIG_PATH))\n",
        "print(\"Full Curricula Path: {}\".format(CURRICULA_PATH))"
      ],
      "execution_count": null,
      "outputs": []
    },
    {
      "cell_type": "markdown",
      "metadata": {
        "id": "6geGg3jlJpFp",
        "colab_type": "text"
      },
      "source": [
        "# Linux Instance\n",
        "\n",
        "Get all possible information we can from the Linux instance that run this notebook"
      ]
    },
    {
      "cell_type": "code",
      "metadata": {
        "id": "OPEA9gPzNibA",
        "colab_type": "code",
        "colab": {}
      },
      "source": [
        "# Linux version\n",
        "!cat /proc/version"
      ],
      "execution_count": null,
      "outputs": []
    },
    {
      "cell_type": "code",
      "metadata": {
        "id": "4NQs8iQmJxJC",
        "colab_type": "code",
        "colab": {}
      },
      "source": [
        "# Current working directory\n",
        "!pwd"
      ],
      "execution_count": null,
      "outputs": []
    },
    {
      "cell_type": "code",
      "metadata": {
        "id": "Gy6Q-kHmJ51r",
        "colab_type": "code",
        "colab": {}
      },
      "source": [
        "# Directory contents\n",
        "!ls"
      ],
      "execution_count": null,
      "outputs": []
    },
    {
      "cell_type": "code",
      "metadata": {
        "id": "iQui3M3_J2RY",
        "colab_type": "code",
        "colab": {}
      },
      "source": [
        "# Python Version\n",
        "!python3 --version"
      ],
      "execution_count": null,
      "outputs": []
    },
    {
      "cell_type": "code",
      "metadata": {
        "id": "x107W9f1KAeS",
        "colab_type": "code",
        "colab": {}
      },
      "source": [
        "# PIP version\n",
        "!pip3 --version"
      ],
      "execution_count": null,
      "outputs": []
    },
    {
      "cell_type": "code",
      "metadata": {
        "id": "WHjT7gDUKIgp",
        "colab_type": "code",
        "colab": {}
      },
      "source": [
        "# CPU info\n",
        "!cat /proc/cpuinfo"
      ],
      "execution_count": null,
      "outputs": []
    },
    {
      "cell_type": "code",
      "metadata": {
        "id": "nJAA1MihKehx",
        "colab_type": "code",
        "colab": {}
      },
      "source": [
        "# RAM info\n",
        "!cat /proc/meminfo"
      ],
      "execution_count": null,
      "outputs": []
    },
    {
      "cell_type": "markdown",
      "metadata": {
        "id": "rGzAvH-fJG9I",
        "colab_type": "text"
      },
      "source": [
        "# Install all Linux dependencies for Unity\n",
        "\n",
        "This is a list of all possible things that Unity ML-Agents might need"
      ]
    },
    {
      "cell_type": "code",
      "metadata": {
        "id": "Dc_31lpNLdvd",
        "colab_type": "code",
        "colab": {}
      },
      "source": [
        "# PIP Python package manager\n",
        "#!python3 -m pip install --upgrade pip\n",
        "!pip install --upgrade pip"
      ],
      "execution_count": null,
      "outputs": []
    },
    {
      "cell_type": "code",
      "metadata": {
        "id": "EMkBVvOJLkWN",
        "colab_type": "code",
        "colab": {}
      },
      "source": [
        "# Tensorflow\n",
        "#!pip install tensorflow\n",
        "!pip install --upgrade tensorflow"
      ],
      "execution_count": null,
      "outputs": []
    },
    {
      "cell_type": "code",
      "metadata": {
        "id": "votL0yzGMEX5",
        "colab_type": "code",
        "colab": {}
      },
      "source": [
        "# Tensorboard\n",
        "#!pip install tensorboard\n",
        "!pip install --upgrade tensorboard"
      ],
      "execution_count": null,
      "outputs": []
    },
    {
      "cell_type": "code",
      "metadata": {
        "id": "e1zk5odEL2gl",
        "colab_type": "code",
        "colab": {}
      },
      "source": [
        "# TensorboardColab\n",
        "#!pip install tensorboardcolab\n",
        "!pip install --upgrade tensorboardcolab"
      ],
      "execution_count": null,
      "outputs": []
    },
    {
      "cell_type": "code",
      "metadata": {
        "id": "VMc3Wnk8LvOy",
        "colab_type": "code",
        "colab": {}
      },
      "source": [
        "# Keras\n",
        "#!pip install keras\n",
        "!pip install --upgrade keras"
      ],
      "execution_count": null,
      "outputs": []
    },
    {
      "cell_type": "code",
      "metadata": {
        "id": "vWu5xG26i-xE",
        "colab_type": "code",
        "colab": {}
      },
      "source": [
        "# SetupTools\n",
        "#!pip install setuptools\n",
        "!pip install --upgrade setuptools"
      ],
      "execution_count": null,
      "outputs": []
    },
    {
      "cell_type": "code",
      "metadata": {
        "id": "EHe11AmCjD2Q",
        "colab_type": "code",
        "colab": {}
      },
      "source": [
        "# mlagents\n",
        "#!pip install mlagents\n",
        "!pip install --upgrade mlagents==0.16.1"
      ],
      "execution_count": null,
      "outputs": []
    },
    {
      "cell_type": "code",
      "metadata": {
        "id": "CeX5lDInXgi-",
        "colab_type": "code",
        "colab": {}
      },
      "source": [
        "# Unity dependencies\n",
        "!apt -qq update\n",
        "!apt -qq install npm\n",
        "!apt -qq install xvfb\n",
        "!apt -qq install libgconf-2-4\n",
        "!apt -qq install gconf-service lib32gcc1 lib32stdc++6 libasound2 libc6 libc6-i386 libcairo2 libcap2 libcups2 libdbus-1-3 libexpat1 libfontconfig1 libfreetype6 libgcc1 libgconf-2-4 libgdk-pixbuf2.0-0 libgl1-mesa-glx libglib2.0-0 libglu1-mesa libgtk2.0-0 libnspr4 libnss3 libpango1.0-0 libstdc++6 libx11-6 libxcomposite1 libxcursor1 libxdamage1 libxext6 libxfixes3 libxi6 libxrandr2 libxrender1 libxtst6 zlib1g debconf\n",
        "!apt -qq install nodejs-dev node-gyp libssl1.0-dev\n",
        "\n",
        "!apt-get update\n",
        "!apt-get install pulseaudio"
      ],
      "execution_count": null,
      "outputs": []
    },
    {
      "cell_type": "markdown",
      "metadata": {
        "id": "zzcc9-kKVNmg",
        "colab_type": "text"
      },
      "source": [
        "# Imports\n",
        "Required library to run subsequent commands of this notebook"
      ]
    },
    {
      "cell_type": "code",
      "metadata": {
        "id": "phO2FqJbVFEH",
        "colab_type": "code",
        "colab": {}
      },
      "source": [
        "# Required imports\n",
        "import os\n",
        "import tensorboard\n",
        "import tensorflow as tf\n",
        "\n",
        "from google.colab import drive\n",
        "from psutil import virtual_memory\n",
        "from tensorflow.python.client import device_lib"
      ],
      "execution_count": null,
      "outputs": []
    },
    {
      "cell_type": "markdown",
      "metadata": {
        "id": "DOLLP3pUNKja",
        "colab_type": "text"
      },
      "source": [
        "# Detailed instance info\n",
        "Check hardware configuration using installed libraries"
      ]
    },
    {
      "cell_type": "code",
      "metadata": {
        "id": "EHB0PvlgjBhw",
        "colab_type": "code",
        "colab": {}
      },
      "source": [
        "# CPU info\n",
        "device_lib.list_local_devices()"
      ],
      "execution_count": null,
      "outputs": []
    },
    {
      "cell_type": "code",
      "metadata": {
        "id": "HAe575eLUy48",
        "colab_type": "code",
        "colab": {}
      },
      "source": [
        "# GPU info\n",
        "gpu_info = !nvidia-smi\n",
        "gpu_info = '\\n'.join(gpu_info)\n",
        "if gpu_info.find('failed') >= 0:\n",
        "  print('Select the Runtime > \"Change runtime type\" menu to enable a GPU accelerator, ')\n",
        "  print('and then re-execute this cell.')\n",
        "else:\n",
        "  print(gpu_info)"
      ],
      "execution_count": null,
      "outputs": []
    },
    {
      "cell_type": "code",
      "metadata": {
        "id": "-V__6H-WU841",
        "colab_type": "code",
        "colab": {}
      },
      "source": [
        "# RAM info\n",
        "ram_gb = virtual_memory().total / 1e9\n",
        "print('Your runtime has {:.1f} gigabytes of available RAM\\n'.format(ram_gb))\n",
        "\n",
        "if ram_gb < 20:\n",
        "  print('To enable a high-RAM runtime, select the Runtime > \"Change runtime type\"')\n",
        "  print('menu, and then select High-RAM in the Runtime shape dropdown. Then, ')\n",
        "  print('re-execute this cell.')\n",
        "else:\n",
        "  print('You are using a high-RAM runtime!')"
      ],
      "execution_count": null,
      "outputs": []
    },
    {
      "cell_type": "markdown",
      "metadata": {
        "id": "wgIkmEe-mqAn",
        "colab_type": "text"
      },
      "source": [
        "# Clone ``ml-agents``\n",
        "To get Unity ML-Agents library"
      ]
    },
    {
      "cell_type": "code",
      "metadata": {
        "id": "JMTVOOs5ATsz",
        "colab_type": "code",
        "colab": {}
      },
      "source": [
        "# Get ml-agents from github repo\n",
        "!git clone -b release_2_branch https://github.com/Unity-Technologies/ml-agents.git\n",
        "print(\"Unity ml-agents repo cloned!\")"
      ],
      "execution_count": null,
      "outputs": []
    },
    {
      "cell_type": "markdown",
      "metadata": {
        "id": "SUjQuD6MT6mj",
        "colab_type": "text"
      },
      "source": [
        "# Clone ``master-thesis``\n",
        "To get SoccerAcademy project in which experiment will be running"
      ]
    },
    {
      "cell_type": "code",
      "metadata": {
        "id": "Z4bgTuGiUVe7",
        "colab_type": "code",
        "colab": {}
      },
      "source": [
        "# Get master-thesis from github repo\n",
        "!git clone -b master https://github.com/rsaenzi/master-thesis.git\n",
        "print(\"SoccerAcademy unity project cloned!\")"
      ],
      "execution_count": null,
      "outputs": []
    },
    {
      "cell_type": "markdown",
      "metadata": {
        "id": "LJTE2Y-Phwlo",
        "colab_type": "text"
      },
      "source": [
        "# Get Unity Installer for Linux\n",
        "Downloading the latest Unity Installer for Linux and make it executable:\n",
        "https://forum.unity.com/threads/unity-on-linux-release-notes-and-known-issues.350256/"
      ]
    },
    {
      "cell_type": "code",
      "metadata": {
        "id": "BXfuUOOSh1c1",
        "colab_type": "code",
        "colab": {}
      },
      "source": [
        "# Download latest installer version for Linux\n",
        "!wget http://beta.unity3d.com/download/292b93d75a2c/UnitySetup-2019.1.0f2 -O UnityInstaller\n",
        "print(\"Unity installed for Linux downloaded!\")"
      ],
      "execution_count": null,
      "outputs": []
    },
    {
      "cell_type": "code",
      "metadata": {
        "id": "5oNgY8wQP6Er",
        "colab_type": "code",
        "colab": {}
      },
      "source": [
        "# Make the downloaded file executable\n",
        "!chmod +x UnityInstaller"
      ],
      "execution_count": null,
      "outputs": []
    },
    {
      "cell_type": "markdown",
      "metadata": {
        "id": "ULEPfm7SYlTk",
        "colab_type": "text"
      },
      "source": [
        "# Unity Installation Config\n",
        "We can configure which Unity exportation platforms will be installed.\n",
        "Note: Don't change the ``INSTALL_LOCATION``. "
      ]
    },
    {
      "cell_type": "code",
      "metadata": {
        "id": "r_vWM4xSiA5-",
        "colab_type": "code",
        "cellView": "both",
        "colab": {}
      },
      "source": [
        "#@title Choose what components to Install\n",
        "# Components = \"Unity\" #@param [\"Unity\", \"Windows-Mono\", \"Mac-Mono\", \"iOS\", \"Android\", \"WebGL\", \"FacebookGames\"] {allow-input: true}\n",
        "\n",
        "INSTALL_LOCATION = \"/opt\" #@param {type:\"string\"}\n",
        "\n",
        "Install_Facebook = 0 #@param {type:\"slider\", min:0, max:1, step:1}\n",
        "Install_MACOS = 0 #@param {type:\"slider\", min:0, max:1, step:1}\n",
        "Install_Windows = 0 #@param {type:\"slider\", min:0, max:1, step:1}\n",
        "Install_Android = 0 #@param {type:\"slider\", min:0, max:1, step:1}\n",
        "Install_WebGL = 0 #@param {type:\"slider\", min:0, max:1, step:1}\n",
        "Install_iOS = 0 #@param {type:\"slider\", min:0, max:1, step:1}\n",
        "\n",
        "SELECTED_COMPS = \"Unity\"\n",
        "\n",
        "SELECTED_COMPS += \",Facebook-Games\" if Install_Facebook == 1 else \"\"\n",
        "SELECTED_COMPS += \",Windows-Mono\" if Install_Windows == 1 else \"\"\n",
        "SELECTED_COMPS += \",Mac-Mono\" if Install_MACOS == 1 else \"\"\n",
        "SELECTED_COMPS += \",Android\" if Install_Android == 1 else \"\"\n",
        "SELECTED_COMPS += \",WebGL\" if Install_WebGL == 1 else \"\"\n",
        "SELECTED_COMPS += \",iOS\" if Install_iOS == 1 else \"\"\n",
        "\n",
        "\n",
        "UNITY_EXEC = INSTALL_LOCATION + '/Editor/Unity'\n",
        "\n",
        "print(\"Selected Components are: {}\".format(SELECTED_COMPS))\n",
        "print(\"Unity Installer Binary Location: {}\".format(UNITY_EXEC))"
      ],
      "execution_count": null,
      "outputs": []
    },
    {
      "cell_type": "markdown",
      "metadata": {
        "id": "YfwY0aaxMzRG",
        "colab_type": "text"
      },
      "source": [
        "# Install Unity\n",
        "You will be prompted to accept the Unity Terms of Service before starting the installation process, please enter 'y' on the textbox to accept the terms of the License Agreement."
      ]
    },
    {
      "cell_type": "code",
      "metadata": {
        "id": "QwHJP95BokJF",
        "colab_type": "code",
        "colab": {}
      },
      "source": [
        "!./UnityInstaller --help"
      ],
      "execution_count": null,
      "outputs": []
    },
    {
      "cell_type": "code",
      "metadata": {
        "id": "Dunn9l6JqkoT",
        "colab_type": "code",
        "colab": {}
      },
      "source": [
        "!./UnityInstaller --unattended --components=$SELECTED_COMPS --install-location=$INSTALL_LOCATION\n",
        "print(\"Unity installation completed!\")"
      ],
      "execution_count": null,
      "outputs": []
    },
    {
      "cell_type": "markdown",
      "metadata": {
        "id": "jXqhovntnuOO",
        "colab_type": "text"
      },
      "source": [
        "# Activate Unity\n",
        "Before using Unity, we have to activate a license. Run the following code to create a license request file (``.alf``)"
      ]
    },
    {
      "cell_type": "code",
      "metadata": {
        "id": "iv4SyB9FmjCo",
        "colab_type": "code",
        "colab": {}
      },
      "source": [
        "#!xvfb-run --auto-servernum $UNITY_EXEC -nographics -logFile -batchmode -createManualActivationFile\n",
        "#print(\"Unity license request file created!\")"
      ],
      "execution_count": null,
      "outputs": []
    },
    {
      "cell_type": "markdown",
      "metadata": {
        "id": "RyUiyO8PPTd7",
        "colab_type": "text"
      },
      "source": [
        "Open [Unity's Manual activation](https://license.unity3d.com/) website to upload the license request file (``.ulf``). Follow the steps to download the License file (``.x.ulf``), then upload it to **colab** using the left side-bar."
      ]
    },
    {
      "cell_type": "markdown",
      "metadata": {
        "id": "V6ljppYcze84",
        "colab_type": "text"
      },
      "source": [
        "**Note** The License file (``.x.ulf``) can be reused to activate Unity in other colab sessions."
      ]
    },
    {
      "cell_type": "code",
      "metadata": {
        "id": "B3P82JZ7p_YW",
        "colab_type": "code",
        "colab": {}
      },
      "source": [
        "!cp -r \"/content/master-thesis/UnityLicense/Unity_v2019.x.ulf\" '/content/'\n",
        "!mv 'Unity_v2019.x.ulf' 'UnityLicense.x.ulf'\n",
        "print(\"Unity license file copied to working directory!\")"
      ],
      "execution_count": null,
      "outputs": []
    },
    {
      "cell_type": "code",
      "metadata": {
        "id": "2S8DNBcwm4Iu",
        "colab_type": "code",
        "colab": {}
      },
      "source": [
        "!xvfb-run --auto-servernum $UNITY_EXEC -nographics -logFile -batchmode -manualLicenseFile UnityLicense.x.ulf\n",
        "print(\"Unity license file installed!\")"
      ],
      "execution_count": null,
      "outputs": []
    },
    {
      "cell_type": "code",
      "metadata": {
        "id": "zLXoXjIC2ZOU",
        "colab_type": "code",
        "colab": {}
      },
      "source": [
        "!cd /content/ml-agents/ml-agents-envs && pip install -e .\n",
        "!cd /content/ml-agents/ml-agents && pip install -e .\n",
        "print(\"Unity ml-agents dependencies installed!\")"
      ],
      "execution_count": null,
      "outputs": []
    },
    {
      "cell_type": "markdown",
      "metadata": {
        "id": "a6bvd6dqzpcr",
        "colab_type": "text"
      },
      "source": [
        "# Update Unity API\n",
        "Now we update the Unity API to prevent build errors. This operation requires to open the SoccerAcademy unity project."
      ]
    },
    {
      "cell_type": "code",
      "metadata": {
        "id": "x9PmiBWLuYMX",
        "colab_type": "code",
        "colab": {}
      },
      "source": [
        "!xvfb-run --auto-servernum $UNITY_EXEC -nographics -logFile -batchmode -accept-apiupdate -buildTarget Linux64 -projectPath $UNITY_PROJECT_PATH -quit\n",
        "print(\"Unity API update finished!\")"
      ],
      "execution_count": null,
      "outputs": []
    },
    {
      "cell_type": "markdown",
      "metadata": {
        "id": "1cg51Si0pCeH",
        "colab_type": "text"
      },
      "source": [
        "# Build SoccerAcademy project\n",
        "Creates the Linux executable to run the experiments"
      ]
    },
    {
      "cell_type": "code",
      "metadata": {
        "id": "_-CwQ97-BvSL",
        "colab_type": "code",
        "colab": {}
      },
      "source": [
        "!xvfb-run --auto-servernum $UNITY_EXEC -nographics -logFile -batchmode -buildTarget Linux64 -buildLinux64Player $FULL_BINARY_PATH -quit\n",
        "print(\"SoccerAcademy project built for Linux!\")"
      ],
      "execution_count": null,
      "outputs": []
    },
    {
      "cell_type": "markdown",
      "metadata": {
        "id": "eEwLgfpfn-SC",
        "colab_type": "text"
      },
      "source": [
        "# Hyperparameters\n",
        "Overwrite the `TrainingConfig.yaml` file to set hyperparameters for training"
      ]
    },
    {
      "cell_type": "code",
      "metadata": {
        "id": "WWutfjvUsxIg",
        "colab_type": "code",
        "colab": {}
      },
      "source": [
        "%%writefile TrainingConfigPPO.yaml\n",
        "\n",
        "# Behaviour Name\n",
        "SoccerAcademy:\n",
        "\n",
        "    # Common Trainer Configurations\n",
        "    trainer: ppo\n",
        "    summary_freq: 10000\n",
        "    batch_size: 5120\n",
        "    buffer_size: 512000\n",
        "    hidden_units: 512\n",
        "    learning_rate: 0.0003\n",
        "    learning_rate_schedule: linear\n",
        "    max_steps: 10000\n",
        "    normalize: false\n",
        "    num_layers: 3\n",
        "    time_horizon: 1024\n",
        "\n",
        "    # PPO-specific hyperparameters\n",
        "    beta: 0.005\n",
        "    epsilon: 0.2\n",
        "    lambd: 0.95\n",
        "    num_epoch: 3\n",
        "\n",
        "    # Reward Signals\n",
        "    reward_signals:\n",
        "        extrinsic:\n",
        "            strength: 1.0\n",
        "            gamma: 0.99\n",
        "\n",
        "    # Memory-enhanced Agents\n",
        "    use_recurrent: false\n",
        "    memory_size: 128\n",
        "    sequence_length: 128"
      ],
      "execution_count": null,
      "outputs": []
    },
    {
      "cell_type": "code",
      "metadata": {
        "id": "6pbphqfb7-wc",
        "colab_type": "code",
        "colab": {}
      },
      "source": [
        "%%writefile TrainingCurriculaA.yaml\n",
        "\n",
        "# Behaviour Name\n",
        "SoccerAcademy:\n",
        "\n",
        "  # Curricula A\n",
        "  measure: progress\n",
        "  min_lesson_length: 100\n",
        "  signal_smoothing: true\n",
        "  thresholds: [0.1, 0.2, 0.3, 0.4, 0.5, 0.6, 0.7, 0.8, 0.9]\n",
        "  parameters:\n",
        "    opponent_speed: [0.0, 0.0, 0.25, 0.5, 0.75, 1.0, 1.25, 1.5, 1.75, 2.0]\n",
        "    opponent_exist: [0.0, 1.0, 1.0, 1.0, 1.0, 1.0, 1.0, 1.0, 1.0, 1.0]"
      ],
      "execution_count": null,
      "outputs": []
    },
    {
      "cell_type": "markdown",
      "metadata": {
        "id": "EI5EQtTzGmqj",
        "colab_type": "text"
      },
      "source": [
        "# Run Experiments using SoccerAcademy project\n",
        "Train the model using ``mlagents-learn`` by groups of 200,000 training steps. Results are uploaded to Google Drive for visualization using TensorBoard"
      ]
    },
    {
      "cell_type": "code",
      "metadata": {
        "id": "uMXy0n6iGhEX",
        "colab_type": "code",
        "colab": {}
      },
      "source": [
        "!xvfb-run --auto-servernum mlagents-learn -h"
      ],
      "execution_count": null,
      "outputs": []
    },
    {
      "cell_type": "code",
      "metadata": {
        "id": "NxO5xlX0G5x9",
        "colab_type": "code",
        "colab": {}
      },
      "source": [
        "!xvfb-run --auto-servernum mlagents-learn $TRAINING_CONFIG_FILE --env=$FULL_BINARY_PATH --run-id=$EXPERIMENTS_NAME --num-envs $PARALLEL_EXECUTIONS --curriculum $CURRICULA_PATH --no-graphics --force"
      ],
      "execution_count": null,
      "outputs": []
    },
    {
      "cell_type": "markdown",
      "metadata": {
        "id": "Ak5QnO9KXgAp",
        "colab_type": "text"
      },
      "source": [
        "# Google Drive\n",
        "Mount Google Drive as a virtual drive in Linux to upload experiment results"
      ]
    },
    {
      "cell_type": "code",
      "metadata": {
        "id": "0cE8mZ38W68A",
        "colab_type": "code",
        "colab": {}
      },
      "source": [
        "# Mount google drive using oficial library\n",
        "drive.mount('/content/google-drive')"
      ],
      "execution_count": null,
      "outputs": []
    },
    {
      "cell_type": "code",
      "metadata": {
        "id": "3Pf-FxPFjOQ-",
        "colab_type": "code",
        "colab": {}
      },
      "source": [
        "# Creates Google Drive folder\n",
        "RESULTS_FOLDER = \"/content/google-drive/My Drive/SoccerAcademy/{}\".format(EXPERIMENTS_NAME)\n",
        "!mkdir -p '$RESULTS_FOLDER'\n",
        "\n",
        "# Copy summaries and models folders\n",
        "!cp -r -v \"/content/summaries\" '$RESULTS_FOLDER'\n",
        "!cp -r -v \"/content/models\" '$RESULTS_FOLDER'\n",
        "\n",
        "print(\"Results uploaded to Google Drive!\")"
      ],
      "execution_count": null,
      "outputs": []
    }
  ]
}